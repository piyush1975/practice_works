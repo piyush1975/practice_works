{
 "cells": [
  {
   "cell_type": "code",
   "execution_count": 1,
   "id": "a6de5c5c-400a-4cb4-86e3-f0b235da6dea",
   "metadata": {},
   "outputs": [],
   "source": [
    "import pandas as pd\n",
    "import numpy as np\n",
    "import matplotlib.pyplot as plt"
   ]
  },
  {
   "cell_type": "code",
   "execution_count": 2,
   "id": "c2f4d141-554a-4660-a512-e77b9197e8ce",
   "metadata": {},
   "outputs": [],
   "source": [
    "n1 = np.array([1,2,3,4])"
   ]
  },
  {
   "cell_type": "code",
   "execution_count": 3,
   "id": "cf80b917-9fd1-40e8-8d00-ec013ab35f2a",
   "metadata": {},
   "outputs": [
    {
     "data": {
      "text/plain": [
       "array([1, 2, 3, 4])"
      ]
     },
     "execution_count": 3,
     "metadata": {},
     "output_type": "execute_result"
    }
   ],
   "source": [
    "n1"
   ]
  },
  {
   "cell_type": "code",
   "execution_count": 4,
   "id": "10d4b578-1534-4b0d-bf27-90e95bfe921c",
   "metadata": {},
   "outputs": [],
   "source": [
    "n2 = np.array([[1,2,3,4],[5,6,7,8]])"
   ]
  },
  {
   "cell_type": "code",
   "execution_count": 5,
   "id": "07b7288c-951b-49e3-81a2-6c53855a7f50",
   "metadata": {},
   "outputs": [
    {
     "data": {
      "text/plain": [
       "array([[1, 2, 3, 4],\n",
       "       [5, 6, 7, 8]])"
      ]
     },
     "execution_count": 5,
     "metadata": {},
     "output_type": "execute_result"
    }
   ],
   "source": [
    "n2"
   ]
  },
  {
   "cell_type": "code",
   "execution_count": 6,
   "id": "008c21d6-1f29-4054-a47e-3f769959a7af",
   "metadata": {},
   "outputs": [
    {
     "data": {
      "text/plain": [
       "numpy.ndarray"
      ]
     },
     "execution_count": 6,
     "metadata": {},
     "output_type": "execute_result"
    }
   ],
   "source": [
    "type(n2)"
   ]
  },
  {
   "cell_type": "code",
   "execution_count": 7,
   "id": "67602aec-c014-4590-a460-bd4893efae54",
   "metadata": {},
   "outputs": [],
   "source": [
    "z = np.zeros((1,2))"
   ]
  },
  {
   "cell_type": "code",
   "execution_count": 8,
   "id": "c2cc3b5c-e539-4820-8ac1-a41366e922a7",
   "metadata": {},
   "outputs": [
    {
     "data": {
      "text/plain": [
       "array([[0., 0.]])"
      ]
     },
     "execution_count": 8,
     "metadata": {},
     "output_type": "execute_result"
    }
   ],
   "source": [
    "z"
   ]
  },
  {
   "cell_type": "code",
   "execution_count": 9,
   "id": "f51fd34e-0418-4d7d-83b1-a79f2840c4e5",
   "metadata": {},
   "outputs": [],
   "source": [
    "s = np.zeros((5,5))"
   ]
  },
  {
   "cell_type": "code",
   "execution_count": 10,
   "id": "75dfb4a1-cb52-41d9-895b-c73a413f8707",
   "metadata": {},
   "outputs": [
    {
     "data": {
      "text/plain": [
       "array([[0., 0., 0., 0., 0.],\n",
       "       [0., 0., 0., 0., 0.],\n",
       "       [0., 0., 0., 0., 0.],\n",
       "       [0., 0., 0., 0., 0.],\n",
       "       [0., 0., 0., 0., 0.]])"
      ]
     },
     "execution_count": 10,
     "metadata": {},
     "output_type": "execute_result"
    }
   ],
   "source": [
    "s"
   ]
  },
  {
   "cell_type": "code",
   "execution_count": 15,
   "id": "662a91dc-bba3-4714-9d91-5e92dcd9fe52",
   "metadata": {},
   "outputs": [],
   "source": [
    "f = np.full((5,5),160)"
   ]
  },
  {
   "cell_type": "code",
   "execution_count": 16,
   "id": "f074a8b2-6abd-45a4-ad5d-e953ecd8bbfd",
   "metadata": {},
   "outputs": [
    {
     "data": {
      "text/plain": [
       "array([[160, 160, 160, 160, 160],\n",
       "       [160, 160, 160, 160, 160],\n",
       "       [160, 160, 160, 160, 160],\n",
       "       [160, 160, 160, 160, 160],\n",
       "       [160, 160, 160, 160, 160]])"
      ]
     },
     "execution_count": 16,
     "metadata": {},
     "output_type": "execute_result"
    }
   ],
   "source": [
    "f"
   ]
  },
  {
   "cell_type": "code",
   "execution_count": 20,
   "id": "3ceeb39d-0c60-4994-a087-907b11204762",
   "metadata": {},
   "outputs": [],
   "source": [
    "n5 = np.arange(10,20)"
   ]
  },
  {
   "cell_type": "code",
   "execution_count": 22,
   "id": "c016707c-1f1c-48b9-8828-4ce6dbc08918",
   "metadata": {},
   "outputs": [
    {
     "data": {
      "text/plain": [
       "array([10, 11, 12, 13, 14, 15, 16, 17, 18, 19])"
      ]
     },
     "execution_count": 22,
     "metadata": {},
     "output_type": "execute_result"
    }
   ],
   "source": [
    "n5"
   ]
  },
  {
   "cell_type": "code",
   "execution_count": 25,
   "id": "54a1d5a4-499b-49a9-9758-e836cf3ce6e4",
   "metadata": {},
   "outputs": [],
   "source": [
    "n6 = np.arange(10,60,4)"
   ]
  },
  {
   "cell_type": "code",
   "execution_count": 26,
   "id": "8975a3e3-79a7-4ce1-8d0a-b75d36db2405",
   "metadata": {},
   "outputs": [
    {
     "data": {
      "text/plain": [
       "array([10, 14, 18, 22, 26, 30, 34, 38, 42, 46, 50, 54, 58])"
      ]
     },
     "execution_count": 26,
     "metadata": {},
     "output_type": "execute_result"
    }
   ],
   "source": [
    "n6"
   ]
  },
  {
   "cell_type": "code",
   "execution_count": 29,
   "id": "513e0753-f3ba-4a32-903a-7eadc447d67c",
   "metadata": {},
   "outputs": [],
   "source": [
    "n7 = np.random.randint(1,50,6)"
   ]
  },
  {
   "cell_type": "code",
   "execution_count": 30,
   "id": "b4c2ac15-26e6-4b17-a804-117ba428633a",
   "metadata": {},
   "outputs": [
    {
     "data": {
      "text/plain": [
       "array([44, 41,  1,  5, 26, 34], dtype=int32)"
      ]
     },
     "execution_count": 30,
     "metadata": {},
     "output_type": "execute_result"
    }
   ],
   "source": [
    "n7"
   ]
  },
  {
   "cell_type": "code",
   "execution_count": 32,
   "id": "f2a2920c-4177-4ba9-a4d7-e2959bbce733",
   "metadata": {},
   "outputs": [],
   "source": [
    "n8 = np.array([[1,2,3,4],[5,6,7,8]])"
   ]
  },
  {
   "cell_type": "code",
   "execution_count": 35,
   "id": "2eb3e693-f51c-4aa0-841c-3002d7c30f47",
   "metadata": {},
   "outputs": [
    {
     "data": {
      "text/plain": [
       "(2, 4)"
      ]
     },
     "execution_count": 35,
     "metadata": {},
     "output_type": "execute_result"
    }
   ],
   "source": [
    "n8.shape"
   ]
  },
  {
   "cell_type": "code",
   "execution_count": 37,
   "id": "1240a824-b7bd-4a3a-9a63-82566bf222ad",
   "metadata": {},
   "outputs": [
    {
     "data": {
      "text/plain": [
       "(4, 2)"
      ]
     },
     "execution_count": 37,
     "metadata": {},
     "output_type": "execute_result"
    }
   ],
   "source": [
    "n8.shape = (4,2)\n",
    "n8.shape"
   ]
  },
  {
   "cell_type": "code",
   "execution_count": 40,
   "id": "230c2bf1-d7bb-46cf-aee4-17d04c5fd84c",
   "metadata": {},
   "outputs": [],
   "source": [
    "#combine\n",
    "\n",
    "n2 = np.array([1,2,3,4])\n",
    "n3 = np.array([5,6,7,8])"
   ]
  },
  {
   "cell_type": "code",
   "execution_count": 41,
   "id": "fccbe51c-6119-4cd2-891d-e58ac978ac05",
   "metadata": {},
   "outputs": [
    {
     "data": {
      "text/plain": [
       "array([[1, 2, 3, 4],\n",
       "       [5, 6, 7, 8]])"
      ]
     },
     "execution_count": 41,
     "metadata": {},
     "output_type": "execute_result"
    }
   ],
   "source": [
    "np.vstack((n2,n3))"
   ]
  },
  {
   "cell_type": "code",
   "execution_count": 42,
   "id": "990753f5-9e0e-43ed-ae6e-5b82416a9358",
   "metadata": {},
   "outputs": [
    {
     "data": {
      "text/plain": [
       "array([1, 2, 3, 4, 5, 6, 7, 8])"
      ]
     },
     "execution_count": 42,
     "metadata": {},
     "output_type": "execute_result"
    }
   ],
   "source": [
    "np.hstack((n2,n3))"
   ]
  },
  {
   "cell_type": "code",
   "execution_count": 44,
   "id": "c648aad3-50d2-4c5c-9ebb-dc0bcbe35fe5",
   "metadata": {},
   "outputs": [
    {
     "data": {
      "text/plain": [
       "array([[1, 5],\n",
       "       [2, 6],\n",
       "       [3, 7],\n",
       "       [4, 8]])"
      ]
     },
     "execution_count": 44,
     "metadata": {},
     "output_type": "execute_result"
    }
   ],
   "source": [
    "np.column_stack((n2,n3))"
   ]
  },
  {
   "cell_type": "code",
   "execution_count": 46,
   "id": "1d68b810-b0ae-4648-91b7-10bdd86ddf93",
   "metadata": {},
   "outputs": [],
   "source": [
    "n9 = np.array([10,20,30,40,50,60])\n",
    "n10 = np.array([50,60,70,80,90,40])"
   ]
  },
  {
   "cell_type": "code",
   "execution_count": 49,
   "id": "499085d2-99e0-4fec-bdfb-452534fc3fbd",
   "metadata": {},
   "outputs": [
    {
     "data": {
      "text/plain": [
       "array([40, 50, 60])"
      ]
     },
     "execution_count": 49,
     "metadata": {},
     "output_type": "execute_result"
    }
   ],
   "source": [
    "np.intersect1d(n9,n10)"
   ]
  },
  {
   "cell_type": "code",
   "execution_count": 50,
   "id": "2fd7f6a5-f2b0-43f4-8dcd-0f1b3e2ff8ed",
   "metadata": {},
   "outputs": [
    {
     "data": {
      "text/plain": [
       "array([10, 20, 30])"
      ]
     },
     "execution_count": 50,
     "metadata": {},
     "output_type": "execute_result"
    }
   ],
   "source": [
    "np.setdiff1d(n9,n10)"
   ]
  },
  {
   "cell_type": "code",
   "execution_count": 51,
   "id": "4b5fb66f-0400-4939-89ae-664dfd62dd48",
   "metadata": {},
   "outputs": [
    {
     "data": {
      "text/plain": [
       "array([70, 80, 90])"
      ]
     },
     "execution_count": 51,
     "metadata": {},
     "output_type": "execute_result"
    }
   ],
   "source": [
    "np.setdiff1d(n10,n9)"
   ]
  },
  {
   "cell_type": "code",
   "execution_count": 53,
   "id": "a2e96435-7c3b-47fe-aeda-825aeb91aad3",
   "metadata": {},
   "outputs": [],
   "source": [
    "n11 = np.array([10,20])\n",
    "n12 = np.array([30,40])"
   ]
  },
  {
   "cell_type": "code",
   "execution_count": 55,
   "id": "f0885d47-e625-4e79-9f2d-43c90e0941cb",
   "metadata": {},
   "outputs": [
    {
     "data": {
      "text/plain": [
       "np.int64(100)"
      ]
     },
     "execution_count": 55,
     "metadata": {},
     "output_type": "execute_result"
    }
   ],
   "source": [
    "np.sum((n11,n12))"
   ]
  },
  {
   "cell_type": "code",
   "execution_count": 57,
   "id": "d19d9cf7-db79-4fbb-9ab2-c3091c0f6343",
   "metadata": {},
   "outputs": [
    {
     "data": {
      "text/plain": [
       "array([40, 60])"
      ]
     },
     "execution_count": 57,
     "metadata": {},
     "output_type": "execute_result"
    }
   ],
   "source": [
    "np.sum((n11,n12),axis = 0)"
   ]
  },
  {
   "cell_type": "code",
   "execution_count": 58,
   "id": "3598e3f4-29d3-46a1-9051-b7c77322e800",
   "metadata": {},
   "outputs": [
    {
     "data": {
      "text/plain": [
       "array([30, 70])"
      ]
     },
     "execution_count": 58,
     "metadata": {},
     "output_type": "execute_result"
    }
   ],
   "source": [
    "np.sum((n11,n12),axis = 1)"
   ]
  },
  {
   "cell_type": "code",
   "execution_count": 59,
   "id": "65630ec3-049f-4792-b8a6-94b9f3d52ed0",
   "metadata": {},
   "outputs": [],
   "source": [
    "n13 = np.array([10,20,30,40])"
   ]
  },
  {
   "cell_type": "code",
   "execution_count": 61,
   "id": "50888faf-f204-403d-94a3-4aa9fde73003",
   "metadata": {},
   "outputs": [
    {
     "data": {
      "text/plain": [
       "np.float64(25.0)"
      ]
     },
     "execution_count": 61,
     "metadata": {},
     "output_type": "execute_result"
    }
   ],
   "source": [
    "np.median(n13)"
   ]
  },
  {
   "cell_type": "code",
   "execution_count": 63,
   "id": "b3f5324f-f3f8-4391-ba50-64bfc08a20ea",
   "metadata": {},
   "outputs": [
    {
     "data": {
      "text/plain": [
       "np.float64(25.0)"
      ]
     },
     "execution_count": 63,
     "metadata": {},
     "output_type": "execute_result"
    }
   ],
   "source": [
    "np.mean(n13)"
   ]
  },
  {
   "cell_type": "code",
   "execution_count": 64,
   "id": "3b61e8d2-53ac-4b32-acd2-de413ca4ab63",
   "metadata": {},
   "outputs": [
    {
     "data": {
      "text/plain": [
       "np.float64(11.180339887498949)"
      ]
     },
     "execution_count": 64,
     "metadata": {},
     "output_type": "execute_result"
    }
   ],
   "source": [
    "np.std(n13)"
   ]
  },
  {
   "cell_type": "code",
   "execution_count": 65,
   "id": "f254653c-a5b7-4a3f-8fac-1752fce7ee67",
   "metadata": {},
   "outputs": [
    {
     "data": {
      "text/plain": [
       "array([1, 2, 3, 4])"
      ]
     },
     "execution_count": 65,
     "metadata": {},
     "output_type": "execute_result"
    }
   ],
   "source": [
    "n1"
   ]
  },
  {
   "cell_type": "code",
   "execution_count": 66,
   "id": "d5eb784d-d00f-4176-94e8-09ef6178e72a",
   "metadata": {},
   "outputs": [],
   "source": [
    "np.save(\"myarray\", n1)"
   ]
  },
  {
   "cell_type": "code",
   "execution_count": 68,
   "id": "2b789286-bdb2-4fb3-a1a4-c3e96d649557",
   "metadata": {},
   "outputs": [],
   "source": [
    "new_n1 = np.load(\"myarray.npy\")"
   ]
  },
  {
   "cell_type": "code",
   "execution_count": 69,
   "id": "20999411-7301-405c-88df-5b411b467f9c",
   "metadata": {},
   "outputs": [
    {
     "data": {
      "text/plain": [
       "array([1, 2, 3, 4])"
      ]
     },
     "execution_count": 69,
     "metadata": {},
     "output_type": "execute_result"
    }
   ],
   "source": [
    "new_n1"
   ]
  },
  {
   "cell_type": "code",
   "execution_count": null,
   "id": "804e0643-e52c-4fb9-917e-3d181e7f3cc0",
   "metadata": {},
   "outputs": [],
   "source": []
  }
 ],
 "metadata": {
  "kernelspec": {
   "display_name": "Python 3 (ipykernel)",
   "language": "python",
   "name": "python3"
  },
  "language_info": {
   "codemirror_mode": {
    "name": "ipython",
    "version": 3
   },
   "file_extension": ".py",
   "mimetype": "text/x-python",
   "name": "python",
   "nbconvert_exporter": "python",
   "pygments_lexer": "ipython3",
   "version": "3.12.3"
  }
 },
 "nbformat": 4,
 "nbformat_minor": 5
}
